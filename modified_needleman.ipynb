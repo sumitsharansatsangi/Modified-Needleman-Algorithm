{
 "cells": [
  {
   "cell_type": "code",
   "execution_count": 8,
   "metadata": {},
   "outputs": [],
   "source": [
    "def lcs(st1, st2):\n",
    "    s =\"\"\n",
    "#your code goes here, replace the \"pass' with your code\n",
    "    st1=''.join([i for i in st1 if i.isalpha()]).lower()\n",
    "    st2=''.join([i for i in st2 if i.isalpha()]).lower()\n",
    "    l1=len(st1)+1\n",
    "    l2=len(st2)+1\n",
    "    LCS = [[0 for x in range(l2)] for y in range(l1)]\n",
    "    for i in range(1,l1):\n",
    "        for j in range(1,l2):\n",
    "            if st1[i-1]==st2[j-1]:\n",
    "                LCS[i][j]=1+LCS[i-1][j-1]\n",
    "            else:\n",
    "                LCS[i][j]=max((LCS[i-1][j])-1,(LCS[i][j-1])-1)\n",
    "#The string variable s stores the lcs of strings st1 and st2.\n",
    "    s=backtrack(LCS,st1,st2,l1-1,l2-1) \n",
    "    return s\n",
    "\n",
    "def backtrack(C,X,Y,i,j):\n",
    "    if i == 0 or j == 0:\n",
    "        return \"\"\n",
    "    if X[i-1] == Y[j-1]:\n",
    "        return backtrack(C, X, Y, i-1, j-1) + X[i-1]\n",
    "    elif C[i][j-1] >= C[i-1][j]:\n",
    "        return backtrack(C, X, Y, i, j-1)\n",
    "    else:\n",
    "        return backtrack(C, X, Y, i-1, j)"
   ]
  },
  {
   "cell_type": "code",
   "execution_count": 11,
   "metadata": {},
   "outputs": [
    {
     "data": {
      "text/plain": [
       "'cactg'"
      ]
     },
     "execution_count": 11,
     "metadata": {},
     "output_type": "execute_result"
    }
   ],
   "source": [
    "lcs(\"ACACTGATCG\",\"CACTG\")"
   ]
  },
  {
   "cell_type": "code",
   "execution_count": null,
   "metadata": {},
   "outputs": [],
   "source": []
  }
 ],
 "metadata": {
  "kernelspec": {
   "display_name": "Python 3",
   "language": "python",
   "name": "python3"
  },
  "language_info": {
   "codemirror_mode": {
    "name": "ipython",
    "version": 3
   },
   "file_extension": ".py",
   "mimetype": "text/x-python",
   "name": "python",
   "nbconvert_exporter": "python",
   "pygments_lexer": "ipython3",
   "version": "3.7.4"
  }
 },
 "nbformat": 4,
 "nbformat_minor": 4
}
